{
  "nbformat": 4,
  "nbformat_minor": 0,
  "metadata": {
    "colab": {
      "provenance": []
    },
    "kernelspec": {
      "name": "python3",
      "display_name": "Python 3"
    },
    "language_info": {
      "name": "python"
    }
  },
  "cells": [
    {
      "cell_type": "markdown",
      "source": [
        "**BMW Sales Data Analysis Project**\n",
        "---\n",
        "This project explores a dataset of BMW sales from 2010 to 2024 to identify key trends and insights that could inform business strategy. The analysis is performed using SQL.\n",
        "\n",
        "1. Problem Statement\n",
        "* A critical task for any business is understanding its sales performance. This project aims to answer the following questions using SQL:\n",
        "\n",
        "* What are the top-performing car models and regions in terms of total sales volume?\n",
        "\n",
        "* How do average prices vary by car model and year?\n",
        "\n",
        "* Are there any correlations between sales performance, car attributes (like fuel type or transmission), and geographic region?\n",
        "\n",
        "* Can we identify specific market segments (e.g., a popular model in a particular region) that have driven success?\n",
        "\n"
      ],
      "metadata": {
        "id": "ccxu46Ch2X-E"
      }
    },
    {
      "cell_type": "markdown",
      "source": [
        "2. Data Preparation and Exploration\n",
        "---\n",
        "\n",
        "\n",
        "First, a table is created to store the raw sales data. The schema is designed to accommodate the various data types found in the provided CSV file."
      ],
      "metadata": {
        "id": "Bg2R5VTY2nWN"
      }
    },
    {
      "cell_type": "code",
      "execution_count": null,
      "metadata": {
        "id": "6GGLtBlZyTD0"
      },
      "outputs": [],
      "source": [
        "CREATE TABLE bmw_sales (\n",
        "    Model TEXT,\n",
        "    Year INTEGER,\n",
        "    Region TEXT,\n",
        "    Color TEXT,\n",
        "    Fuel_Type TEXT,\n",
        "    Transmission TEXT,\n",
        "    Engine_Size_L REAL,\n",
        "    Mileage_KM INTEGER,\n",
        "    Price_USD INTEGER,\n",
        "    Sales_Volume INTEGER,\n",
        "    Sales_Classification TEXT\n",
        ");"
      ]
    },
    {
      "cell_type": "markdown",
      "source": [
        "Query 1: Total sales volume by region\n",
        "* This helps identify which markets are the most profitable."
      ],
      "metadata": {
        "id": "VLHyBsO34Y1t"
      }
    },
    {
      "cell_type": "code",
      "source": [
        "SELECT Region, SUM(Sales_Volume) AS TotalSales\n",
        "FROM bmw_sales\n",
        "GROUP BY Region\n",
        "ORDER BY TotalSales DESC;"
      ],
      "metadata": {
        "id": "oI8K0nkI4QA5"
      },
      "execution_count": null,
      "outputs": []
    },
    {
      "cell_type": "markdown",
      "source": [
        "\n",
        "\n",
        "Query 1: Total sales volume by region\n",
        "| Region | TotalSales |\n",
        "| :--- | :--- |\n",
        "| Asia | 16820 |\n",
        "| Europe | 6116 |\n",
        "| Middle East | 4047 |\n",
        "| North America | 3428 |\n"
      ],
      "metadata": {
        "id": "GSA1X-5x9CuR"
      }
    },
    {
      "cell_type": "markdown",
      "source": [
        "Query 2: Average price per car model\n",
        "* Provides insight into pricing strategies and market positioning."
      ],
      "metadata": {
        "id": "DXlvQS2N4j1J"
      }
    },
    {
      "cell_type": "code",
      "source": [
        "SELECT Model, AVG(Price_USD) AS AveragePrice\n",
        "FROM bmw_sales\n",
        "GROUP BY Model\n",
        "ORDER BY AveragePrice DESC;\n"
      ],
      "metadata": {
        "id": "EumDVq8N4kVy"
      },
      "execution_count": null,
      "outputs": []
    },
    {
      "cell_type": "markdown",
      "source": [
        "| Model | AveragePrice |\n",
        "| :--- | :--- |\n",
        "| M5 | 102778 |\n",
        "| 5 Series | 98740 |\n",
        "| M3 | 85034 |\n",
        "| i8 | 79219 |\n",
        "| 3 Series | 71897 |\n",
        "| X3 | 60971 |"
      ],
      "metadata": {
        "id": "DqY0dnxw98rV"
      }
    },
    {
      "cell_type": "markdown",
      "source": [
        "Query 3: Count of sales by fuel type\n",
        "* Understanding fuel preferences can inform future product development."
      ],
      "metadata": {
        "id": "Pld4C7VD4u2y"
      }
    },
    {
      "cell_type": "code",
      "source": [
        "SELECT Fuel_Type, COUNT(*) AS TotalSales\n",
        "FROM bmw_sales\n",
        "GROUP BY Fuel_Type\n",
        "ORDER BY TotalSales DESC;"
      ],
      "metadata": {
        "id": "_SFJeufE4vcj"
      },
      "execution_count": null,
      "outputs": []
    },
    {
      "cell_type": "markdown",
      "source": [
        "| Fuel_Type | TotalSales |\n",
        "| :--- | :--- |\n",
        "| Petrol | 3 |\n",
        "| Hybrid | 2 |\n",
        "| Diesel | 1 |"
      ],
      "metadata": {
        "id": "30Itlm6Z-Fvd"
      }
    },
    {
      "cell_type": "markdown",
      "source": [
        "Query 4: Sales of 'High' classification cars in Europe\n",
        "* Focuses on high-value sales in a specific, key market."
      ],
      "metadata": {
        "id": "-aNH3q7y46x3"
      }
    },
    {
      "cell_type": "code",
      "source": [
        "SELECT Model, Year, Sales_Volume, Sales_Classification\n",
        "FROM bmw_sales\n",
        "WHERE Sales_Classification = 'High' AND Region = 'Europe'\n",
        "ORDER BY Year DESC;"
      ],
      "metadata": {
        "id": "yLQbaDpm47Bw"
      },
      "execution_count": null,
      "outputs": []
    },
    {
      "cell_type": "markdown",
      "source": [
        "| Fuel_Type | TotalSales |\n",
        "| :--- | :--- |\n",
        "| Petrol | 3 |\n",
        "| Hybrid | 2 |\n",
        " | Diesel | 1 |"
      ],
      "metadata": {
        "id": "73zbpCzb-L1o"
      }
    },
    {
      "cell_type": "markdown",
      "source": [
        "Query 5: Average mileage and price for manual vs. automatic transmission\n",
        "* This query helps to compare the value and usage of different transmission types.\n"
      ],
      "metadata": {
        "id": "4EJpZGMU5DrO"
      }
    },
    {
      "cell_type": "code",
      "source": [
        "SELECT\n",
        "    Transmission,\n",
        "    AVG(Mileage_KM) AS AvgMileage,\n",
        "    AVG(Price_USD) AS AvgPrice\n",
        "FROM bmw_sales\n",
        "GROUP BY Transmission;"
      ],
      "metadata": {
        "id": "7k0xlnjr5D6Y"
      },
      "execution_count": null,
      "outputs": []
    },
    {
      "cell_type": "markdown",
      "source": [
        "| Transmission | AvgMileage | AvgPrice |\n",
        "| :--- | :--- | :--- |\n",
        "| Manual | 79147 | 85318.5 |\n",
        "| Automatic | 117232 | 81990.5 |"
      ],
      "metadata": {
        "id": "nr8cIEm2-ezo"
      }
    },
    {
      "cell_type": "markdown",
      "source": [
        "3. Conclusion\n",
        "---\n",
        "* The Region and Model are the most impactful factors on Sales_Volume.\n",
        "\n",
        "* Average Price can vary significantly by Model, highlighting different market segments.\n",
        "\n",
        "* Fuel Type and Transmission are important factors to consider for product development in specific regions.\n"
      ],
      "metadata": {
        "id": "1wYtS1V55bi7"
      }
    },
    {
      "cell_type": "markdown",
      "source": [],
      "metadata": {
        "id": "ihIFsVw9_EUj"
      }
    }
  ]
}